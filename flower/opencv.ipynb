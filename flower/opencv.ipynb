{
 "cells": [
  {
   "cell_type": "markdown",
   "id": "3f3b5943",
   "metadata": {},
   "source": [
    "Copied from Mr. Kaviani's code collection\n",
    "\n",
    "for Practice"
   ]
  },
  {
   "cell_type": "code",
   "execution_count": 1,
   "id": "57733a1a",
   "metadata": {},
   "outputs": [],
   "source": [
    "import matplotlib.pyplot as plt\n",
    "import cv2\n",
    "import numpy as np"
   ]
  },
  {
   "cell_type": "code",
   "execution_count": 2,
   "id": "5264ea78",
   "metadata": {},
   "outputs": [],
   "source": [
    "img = cv2.imread('train_data/Buttercup/1.jpg')"
   ]
  },
  {
   "cell_type": "code",
   "execution_count": 3,
   "id": "ee9426d6",
   "metadata": {},
   "outputs": [],
   "source": [
    "image_hsv = cv2.cvtColor(img, cv2.COLOR_BGR2HSV)"
   ]
  },
  {
   "cell_type": "code",
   "execution_count": 4,
   "id": "2532be24",
   "metadata": {},
   "outputs": [],
   "source": [
    "image = cv2.resize(img, (500, 500))\n",
    "image_hsv = cv2.cvtColor(image, cv2.COLOR_BGR2HSV)"
   ]
  },
  {
   "cell_type": "code",
   "execution_count": null,
   "id": "94d1eebb",
   "metadata": {},
   "outputs": [],
   "source": [
    "#hist = cv2.cal"
   ]
  },
  {
   "cell_type": "code",
   "execution_count": null,
   "id": "cfc4132d",
   "metadata": {},
   "outputs": [],
   "source": []
  },
  {
   "cell_type": "code",
   "execution_count": null,
   "id": "0f0c2a4a",
   "metadata": {},
   "outputs": [],
   "source": []
  }
 ],
 "metadata": {
  "kernelspec": {
   "display_name": "Python 3 (ipykernel)",
   "language": "python",
   "name": "python3"
  },
  "language_info": {
   "codemirror_mode": {
    "name": "ipython",
    "version": 3
   },
   "file_extension": ".py",
   "mimetype": "text/x-python",
   "name": "python",
   "nbconvert_exporter": "python",
   "pygments_lexer": "ipython3",
   "version": "3.8.5"
  }
 },
 "nbformat": 4,
 "nbformat_minor": 5
}
