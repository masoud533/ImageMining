{
 "cells": [
  {
   "cell_type": "markdown",
   "id": "2f580a57",
   "metadata": {},
   "source": [
    "Copied from Mr. Kaviani's code collection\n",
    "\n",
    "for Practice"
   ]
  },
  {
   "cell_type": "code",
   "execution_count": 1,
   "id": "8351a730",
   "metadata": {},
   "outputs": [],
   "source": [
    "import matplotlib.pyplot as plt\n",
    "import cv2\n",
    "import numpy as np"
   ]
  },
  {
   "cell_type": "code",
   "execution_count": 2,
   "id": "b0ed6d9d",
   "metadata": {},
   "outputs": [],
   "source": [
    "img = cv2.imread('train_data/Buttercup/1.jpg')"
   ]
  },
  {
   "cell_type": "code",
   "execution_count": 3,
   "id": "7179eefe",
   "metadata": {},
   "outputs": [],
   "source": [
    "image_hsv = cv2.cvtColor(img, cv2.COLOR_BGR2HSV)"
   ]
  },
  {
   "cell_type": "code",
   "execution_count": 4,
   "id": "28c0786a",
   "metadata": {},
   "outputs": [],
   "source": [
    "image = cv2.resize(img, (500, 500))\n",
    "image_hsv = cv2.cvtColor(image, cv2.COLOR_BGR2HSV)"
   ]
  },
  {
   "cell_type": "code",
   "execution_count": 5,
   "id": "95a52538",
   "metadata": {},
   "outputs": [],
   "source": [
    "hist = cv2.calcHist([image], [0, 1, 2], None, [12, 12, 12], [0, 256, 0, 256, 0, 256])\n",
    "cv2.normalize(hist, hist)\n",
    "image_histogram = hist.flatten()"
   ]
  },
  {
   "cell_type": "code",
   "execution_count": 6,
   "id": "de7041b3",
   "metadata": {},
   "outputs": [
    {
     "data": {
      "text/plain": [
       "(1728,)"
      ]
     },
     "execution_count": 6,
     "metadata": {},
     "output_type": "execute_result"
    }
   ],
   "source": [
    "np.shape(image_histogram)"
   ]
  },
  {
   "cell_type": "code",
   "execution_count": null,
   "id": "ce3eabd1",
   "metadata": {},
   "outputs": [],
   "source": []
  }
 ],
 "metadata": {
  "kernelspec": {
   "display_name": "Python 3 (ipykernel)",
   "language": "python",
   "name": "python3"
  },
  "language_info": {
   "codemirror_mode": {
    "name": "ipython",
    "version": 3
   },
   "file_extension": ".py",
   "mimetype": "text/x-python",
   "name": "python",
   "nbconvert_exporter": "python",
   "pygments_lexer": "ipython3",
   "version": "3.8.5"
  }
 },
 "nbformat": 4,
 "nbformat_minor": 5
}
