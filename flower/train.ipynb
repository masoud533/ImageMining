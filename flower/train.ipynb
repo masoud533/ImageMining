{
 "cells": [
  {
   "cell_type": "markdown",
   "id": "fad101db",
   "metadata": {},
   "source": [
    "Copied from Mr. Kaviani's code collection\n",
    "\n",
    "for Practice"
   ]
  },
  {
   "cell_type": "code",
   "execution_count": 1,
   "id": "d44a8aaf",
   "metadata": {},
   "outputs": [],
   "source": [
    "import os\n",
    "import cv2\n",
    "import h5py\n",
    "import pickle\n",
    "import numpy as np\n",
    "import pandas as pd\n",
    "from sklearn.preprocessing import LabelEncoder, MinMaxScaler"
   ]
  },
  {
   "cell_type": "code",
   "execution_count": 2,
   "id": "82a1c6ae",
   "metadata": {},
   "outputs": [
    {
     "data": {
      "text/plain": [
       "['Cowslip',\n",
       " 'Tigerlily',\n",
       " 'Daisy',\n",
       " 'Dandelion',\n",
       " 'ColtsFoot',\n",
       " 'Windflower',\n",
       " 'Snowdrop',\n",
       " 'jpg',\n",
       " 'Fritillary',\n",
       " 'Daffodil',\n",
       " 'Sunflower',\n",
       " 'LilyValley',\n",
       " 'Buttercup',\n",
       " 'Tulip',\n",
       " 'Iris',\n",
       " 'Crocus',\n",
       " 'pansy',\n",
       " 'Bluebell']"
      ]
     },
     "execution_count": 2,
     "metadata": {},
     "output_type": "execute_result"
    }
   ],
   "source": [
    "train_labels = os.listdir('train_data/')\n",
    "train_labels"
   ]
  },
  {
   "cell_type": "code",
   "execution_count": null,
   "id": "f1c3f23d",
   "metadata": {},
   "outputs": [],
   "source": []
  },
  {
   "cell_type": "code",
   "execution_count": null,
   "id": "b33929b6",
   "metadata": {},
   "outputs": [],
   "source": []
  },
  {
   "cell_type": "code",
   "execution_count": null,
   "id": "1c75ee85",
   "metadata": {},
   "outputs": [],
   "source": []
  }
 ],
 "metadata": {
  "kernelspec": {
   "display_name": "Python 3 (ipykernel)",
   "language": "python",
   "name": "python3"
  },
  "language_info": {
   "codemirror_mode": {
    "name": "ipython",
    "version": 3
   },
   "file_extension": ".py",
   "mimetype": "text/x-python",
   "name": "python",
   "nbconvert_exporter": "python",
   "pygments_lexer": "ipython3",
   "version": "3.8.5"
  }
 },
 "nbformat": 4,
 "nbformat_minor": 5
}
